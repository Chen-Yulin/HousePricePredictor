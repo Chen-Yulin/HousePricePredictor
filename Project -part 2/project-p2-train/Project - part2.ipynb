{
 "cells": [
  {
   "cell_type": "markdown",
   "id": "c7bf201b",
   "metadata": {},
   "source": [
    "# Project Part II: Predicting Housing Prices - Build Your Own Model (50 pts)\n",
    "\n",
    " "
   ]
  },
  {
   "cell_type": "markdown",
   "id": "e9e950c0",
   "metadata": {},
   "source": [
    "### Grading Scheme\n",
    "\n",
    "Your grade for the project will be based on your training RMSE and test RMSE. The thresholds are as follows:\n",
    "\n",
    "Points | 50 | 40 | 30 | 20\n",
    "--- | --- | --- | --- | ---\n",
    "Test RMSE | Top 20% | (20%, 40%] | (40%, 70%] | Last 30%\n"
   ]
  },
  {
   "cell_type": "code",
   "execution_count": 1,
   "id": "5a0f9898",
   "metadata": {},
   "outputs": [],
   "source": [
    "%load_ext autoreload\n",
    "%autoreload 2"
   ]
  },
  {
   "cell_type": "code",
   "execution_count": 2,
   "id": "470dba33",
   "metadata": {},
   "outputs": [],
   "source": [
    "from proj import *\n"
   ]
  },
  {
   "cell_type": "code",
   "execution_count": 3,
   "id": "7887c850",
   "metadata": {},
   "outputs": [],
   "source": [
    "# Some Imports You Might Need\n",
    "import numpy as np\n",
    "import pandas as pd\n",
    "from pandas.api.types import CategoricalDtype\n",
    "\n",
    "%matplotlib inline\n",
    "import matplotlib.pyplot as plt\n",
    "import seaborn as sns\n",
    "from joblib import dump, load\n",
    "\n",
    "import warnings\n",
    "warnings.filterwarnings(\"ignore\")\n",
    "\n",
    "import zipfile\n",
    "import os\n",
    "\n",
    "from sklearn.preprocessing import OneHotEncoder\n",
    "from sklearn import linear_model as lm\n",
    "\n",
    "# Plot settings\n",
    "plt.rcParams['figure.figsize'] = (12, 9)\n",
    "plt.rcParams['font.size'] = 12\n",
    "\n",
    "# Extract Dataset\n",
    "with zipfile.ZipFile('cook_county_contest_data.zip') as item:\n",
    "    item.extractall()\n",
    "    \n",
    "    \n",
    "### Note: we filtered the data in cook_county_contest_data, \n",
    "####so please use this dataset instead of the old one."
   ]
  },
  {
   "cell_type": "markdown",
   "id": "916414d0",
   "metadata": {},
   "source": [
    "### Note\n",
    "\n",
    "This notebook is specifically designed to guide you through the process of exporting your model's predictions on the test dataset for submission so you can see how your model performs.\n",
    "\n",
    "Most of what you have done in project part I should be transferrable here. "
   ]
  },
  {
   "cell_type": "markdown",
   "id": "ef52d919",
   "metadata": {},
   "source": [
    "## Step 1. Set up all the helper functions for your `create_pipeline` function.\n",
    "\n",
    "You can do that in proj.py"
   ]
  },
  {
   "cell_type": "markdown",
   "id": "0749bd6e",
   "metadata": {},
   "source": [
    "## Step 2. Initiate a pipeline\n",
    "\n",
    "Create a pipeline instance:\n",
    "pipeline = create_pipeline()\n"
   ]
  },
  {
   "cell_type": "code",
   "execution_count": 4,
   "id": "ad9f508c",
   "metadata": {},
   "outputs": [],
   "source": [
    "pipeline = create_pipeline()"
   ]
  },
  {
   "cell_type": "markdown",
   "id": "632c3de8",
   "metadata": {},
   "source": [
    "## Step 3. Train your model\n",
    "\n",
    "Run the following cell to import the new set of training data to fit your model on. **You can use any regression model, the following is just an example** \n",
    "\n",
    "**As usual**, your model will predict the log-transformed sale price, and our grading will transform your predictions back to the normal vlaues."
   ]
  },
  {
   "cell_type": "code",
   "execution_count": 40,
   "id": "8846885c",
   "metadata": {},
   "outputs": [
    {
     "data": {
      "text/plain": [
       "['../../model/pipeline.joblib.gz']"
      ]
     },
     "execution_count": 40,
     "metadata": {},
     "output_type": "execute_result"
    }
   ],
   "source": [
    "train_data = pd.read_csv('cook_county_contest_data/cook_county_contest_train.csv')\n",
    "train_data = remove_outliers(train_data, \"Sale Price\",degree=1)\n",
    "y_train = np.log(train_data['Sale Price'])\n",
    "train_data = Preprocess(train_data.drop(columns=['Sale Price']))\n",
    "#train_data, y_train = preprocess_train(train_data)\n",
    "\n",
    "###You can use any model in Sklearn\n",
    "pipeline.fit(train_data, y_train);\n",
    "\n",
    "##Export your pipeline\n",
    "\n",
    "dump(pipeline, '../../model/pipeline.joblib.gz', compress=('gzip', 3))\n",
    "#\n",
    "#This saves the pipeline to a compressed file\n",
    "#The compress parameter takes a tuple of the compression method and the compression level, which in this case is ( 'gzip', 3)\n",
    "# The compression level ranges from 0 to 9, with 0 being no compression \n",
    "# and 9 being the highest level of compression. \n",
    "# A higher compression level will result in a smaller file size, but will also take longer to compress and decompress."
   ]
  },
  {
   "cell_type": "markdown",
   "id": "fadb1c30",
   "metadata": {},
   "source": [
    "## Step 4. Cross validation and push your code\n",
    "\n",
    "Do cross-validation on the train set to test the performance of your model. Push your code to Gitea and send your model to the server."
   ]
  },
  {
   "cell_type": "code",
   "execution_count": 35,
   "id": "ebccb31f",
   "metadata": {},
   "outputs": [],
   "source": [
    "### You can do cross-validation here\n",
    "test_data = pd.read_csv('cook_county_contest_data/cook_county_contest_train.csv').head(20)"
   ]
  },
  {
   "cell_type": "code",
   "execution_count": 36,
   "id": "696fd5a4",
   "metadata": {},
   "outputs": [],
   "source": [
    "m = load(os.path.join(\"../../model/\", 'pipeline.joblib.gz'))"
   ]
  },
  {
   "cell_type": "code",
   "execution_count": 37,
   "id": "27214a81",
   "metadata": {},
   "outputs": [
    {
     "name": "stdout",
     "output_type": "stream",
     "text": [
      "[-1.19299347e+10 -7.43132968e+09 -1.27071332e+10 -9.30261564e+09\n",
      " -6.82808903e+09]\n"
     ]
    }
   ],
   "source": [
    "from sklearn.model_selection import KFold, cross_val_score\n",
    "kfold = KFold(n_splits=5)\n",
    "scores = cross_val_score(m, Preprocess(test_data), test_data[\"Sale Price\"], cv=5, scoring=\"neg_mean_squared_error\")\n",
    "print(scores)"
   ]
  },
  {
   "cell_type": "code",
   "execution_count": 38,
   "id": "b1664556",
   "metadata": {},
   "outputs": [
    {
     "data": {
      "text/html": [
       "<div>\n",
       "<style scoped>\n",
       "    .dataframe tbody tr th:only-of-type {\n",
       "        vertical-align: middle;\n",
       "    }\n",
       "\n",
       "    .dataframe tbody tr th {\n",
       "        vertical-align: top;\n",
       "    }\n",
       "\n",
       "    .dataframe thead th {\n",
       "        text-align: right;\n",
       "    }\n",
       "</style>\n",
       "<table border=\"1\" class=\"dataframe\">\n",
       "  <thead>\n",
       "    <tr style=\"text-align: right;\">\n",
       "      <th></th>\n",
       "      <th>prediction</th>\n",
       "    </tr>\n",
       "    <tr>\n",
       "      <th>Sale Price</th>\n",
       "      <th></th>\n",
       "    </tr>\n",
       "  </thead>\n",
       "  <tbody>\n",
       "    <tr>\n",
       "      <th>13.020109</th>\n",
       "      <td>13.287255</td>\n",
       "    </tr>\n",
       "    <tr>\n",
       "      <th>11.703546</th>\n",
       "      <td>11.851461</td>\n",
       "    </tr>\n",
       "    <tr>\n",
       "      <th>11.095894</th>\n",
       "      <td>11.460416</td>\n",
       "    </tr>\n",
       "    <tr>\n",
       "      <th>13.085699</th>\n",
       "      <td>13.124767</td>\n",
       "    </tr>\n",
       "    <tr>\n",
       "      <th>11.042922</th>\n",
       "      <td>11.034757</td>\n",
       "    </tr>\n",
       "    <tr>\n",
       "      <th>11.289782</th>\n",
       "      <td>11.568338</td>\n",
       "    </tr>\n",
       "    <tr>\n",
       "      <th>12.611538</th>\n",
       "      <td>12.602937</td>\n",
       "    </tr>\n",
       "    <tr>\n",
       "      <th>12.510796</th>\n",
       "      <td>12.528873</td>\n",
       "    </tr>\n",
       "    <tr>\n",
       "      <th>12.923912</th>\n",
       "      <td>12.734241</td>\n",
       "    </tr>\n",
       "    <tr>\n",
       "      <th>11.460579</th>\n",
       "      <td>11.244182</td>\n",
       "    </tr>\n",
       "    <tr>\n",
       "      <th>13.102161</th>\n",
       "      <td>13.013764</td>\n",
       "    </tr>\n",
       "    <tr>\n",
       "      <th>11.798104</th>\n",
       "      <td>11.710423</td>\n",
       "    </tr>\n",
       "    <tr>\n",
       "      <th>12.736407</th>\n",
       "      <td>12.673302</td>\n",
       "    </tr>\n",
       "    <tr>\n",
       "      <th>12.577636</th>\n",
       "      <td>12.162247</td>\n",
       "    </tr>\n",
       "    <tr>\n",
       "      <th>12.141534</th>\n",
       "      <td>12.138586</td>\n",
       "    </tr>\n",
       "    <tr>\n",
       "      <th>11.461632</th>\n",
       "      <td>11.787450</td>\n",
       "    </tr>\n",
       "    <tr>\n",
       "      <th>11.350407</th>\n",
       "      <td>11.451967</td>\n",
       "    </tr>\n",
       "    <tr>\n",
       "      <th>10.839581</th>\n",
       "      <td>11.155456</td>\n",
       "    </tr>\n",
       "    <tr>\n",
       "      <th>12.742566</th>\n",
       "      <td>12.750877</td>\n",
       "    </tr>\n",
       "    <tr>\n",
       "      <th>10.388995</th>\n",
       "      <td>10.793848</td>\n",
       "    </tr>\n",
       "  </tbody>\n",
       "</table>\n",
       "</div>"
      ],
      "text/plain": [
       "            prediction\n",
       "Sale Price            \n",
       "13.020109    13.287255\n",
       "11.703546    11.851461\n",
       "11.095894    11.460416\n",
       "13.085699    13.124767\n",
       "11.042922    11.034757\n",
       "11.289782    11.568338\n",
       "12.611538    12.602937\n",
       "12.510796    12.528873\n",
       "12.923912    12.734241\n",
       "11.460579    11.244182\n",
       "13.102161    13.013764\n",
       "11.798104    11.710423\n",
       "12.736407    12.673302\n",
       "12.577636    12.162247\n",
       "12.141534    12.138586\n",
       "11.461632    11.787450\n",
       "11.350407    11.451967\n",
       "10.839581    11.155456\n",
       "12.742566    12.750877\n",
       "10.388995    10.793848"
      ]
     },
     "execution_count": 38,
     "metadata": {},
     "output_type": "execute_result"
    }
   ],
   "source": [
    "pd.DataFrame({\"prediction\":m.predict(Preprocess(test_data))},np.log(test_data[\"Sale Price\"]))"
   ]
  },
  {
   "cell_type": "code",
   "execution_count": null,
   "id": "e9c17a4a",
   "metadata": {},
   "outputs": [],
   "source": []
  },
  {
   "cell_type": "code",
   "execution_count": null,
   "id": "256d0579",
   "metadata": {},
   "outputs": [],
   "source": []
  }
 ],
 "metadata": {
  "kernelspec": {
   "display_name": "Python 3 (ipykernel)",
   "language": "python",
   "name": "python3"
  },
  "language_info": {
   "codemirror_mode": {
    "name": "ipython",
    "version": 3
   },
   "file_extension": ".py",
   "mimetype": "text/x-python",
   "name": "python",
   "nbconvert_exporter": "python",
   "pygments_lexer": "ipython3",
   "version": "3.9.13"
  },
  "vscode": {
   "interpreter": {
    "hash": "aee8b7b246df8f9039afb4144a1f6fd8d2ca17a180786b69acc140d282b71a49"
   }
  }
 },
 "nbformat": 4,
 "nbformat_minor": 5
}
