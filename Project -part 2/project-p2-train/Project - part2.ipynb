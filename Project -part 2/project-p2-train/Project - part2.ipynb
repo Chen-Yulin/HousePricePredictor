{
 "cells": [
  {
   "cell_type": "markdown",
   "id": "c7bf201b",
   "metadata": {},
   "source": [
    "# Project Part II: Predicting Housing Prices - Build Your Own Model (50 pts)\n",
    "\n",
    " "
   ]
  },
  {
   "cell_type": "markdown",
   "id": "e9e950c0",
   "metadata": {},
   "source": [
    "### Grading Scheme\n",
    "\n",
    "Your grade for the project will be based on your training RMSE and test RMSE. The thresholds are as follows:\n",
    "\n",
    "Points | 50 | 40 | 30 | 20\n",
    "--- | --- | --- | --- | ---\n",
    "Test RMSE | Top 20% | (20%, 40%] | (40%, 70%] | Last 30%\n"
   ]
  },
  {
   "cell_type": "code",
   "execution_count": 1,
   "id": "5a0f9898",
   "metadata": {},
   "outputs": [],
   "source": [
    "%load_ext autoreload\n",
    "%autoreload 2"
   ]
  },
  {
   "cell_type": "code",
   "execution_count": 2,
   "id": "470dba33",
   "metadata": {},
   "outputs": [],
   "source": [
    "from proj import *\n"
   ]
  },
  {
   "cell_type": "code",
   "execution_count": 3,
   "id": "7887c850",
   "metadata": {},
   "outputs": [],
   "source": [
    "# Some Imports You Might Need\n",
    "import numpy as np\n",
    "import pandas as pd\n",
    "from pandas.api.types import CategoricalDtype\n",
    "\n",
    "%matplotlib inline\n",
    "import matplotlib.pyplot as plt\n",
    "import seaborn as sns\n",
    "from joblib import dump, load\n",
    "\n",
    "import warnings\n",
    "warnings.filterwarnings(\"ignore\")\n",
    "\n",
    "import zipfile\n",
    "import os\n",
    "\n",
    "from sklearn.preprocessing import OneHotEncoder\n",
    "from sklearn import linear_model as lm\n",
    "\n",
    "# Plot settings\n",
    "plt.rcParams['figure.figsize'] = (12, 9)\n",
    "plt.rcParams['font.size'] = 12\n",
    "\n",
    "# Extract Dataset\n",
    "with zipfile.ZipFile('cook_county_contest_data.zip') as item:\n",
    "    item.extractall()\n",
    "    \n",
    "    \n",
    "### Note: we filtered the data in cook_county_contest_data, \n",
    "####so please use this dataset instead of the old one."
   ]
  },
  {
   "cell_type": "markdown",
   "id": "916414d0",
   "metadata": {},
   "source": [
    "### Note\n",
    "\n",
    "This notebook is specifically designed to guide you through the process of exporting your model's predictions on the test dataset for submission so you can see how your model performs.\n",
    "\n",
    "Most of what you have done in project part I should be transferrable here. "
   ]
  },
  {
   "cell_type": "markdown",
   "id": "ef52d919",
   "metadata": {},
   "source": [
    "## Step 1. Set up all the helper functions for your `create_pipeline` function.\n",
    "\n",
    "You can do that in proj.py"
   ]
  },
  {
   "cell_type": "markdown",
   "id": "0749bd6e",
   "metadata": {},
   "source": [
    "## Step 2. Initiate a pipeline\n",
    "\n",
    "Create a pipeline instance:\n",
    "pipeline = create_pipeline()\n"
   ]
  },
  {
   "cell_type": "code",
   "execution_count": 11,
   "id": "ad9f508c",
   "metadata": {},
   "outputs": [],
   "source": [
    "pipeline = create_pipeline()"
   ]
  },
  {
   "cell_type": "markdown",
   "id": "632c3de8",
   "metadata": {},
   "source": [
    "## Step 3. Train your model\n",
    "\n",
    "Run the following cell to import the new set of training data to fit your model on. **You can use any regression model, the following is just an example** \n",
    "\n",
    "**As usual**, your model will predict the log-transformed sale price, and our grading will transform your predictions back to the normal vlaues."
   ]
  },
  {
   "cell_type": "code",
   "execution_count": null,
   "id": "8846885c",
   "metadata": {},
   "outputs": [],
   "source": [
    "# model 2\n",
    "train_data = pd.read_csv('cook_county_contest_data/cook_county_contest_train.csv')\n",
    "train_data = remove_outliers(train_data, \"Sale Price\",degree=0.1)\n",
    "y_train = train_data['Sale Price']\n",
    "train_data = Preprocess(train_data.drop(columns=['Sale Price']))\n",
    "#train_data, y_train = preprocess_train(train_data)\n",
    "\n",
    "###You can use any model in Sklearn\n",
    "pipeline.fit(train_data, y_train);\n",
    "\n",
    "##Export your pipeline\n",
    "\n",
    "dump(pipeline, '../../model/m2.joblib.gz', compress=('gzip', 3))\n",
    "#\n",
    "#This saves the pipeline to a compressed file\n",
    "#The compress parameter takes a tuple of the compression method and the compression level, which in this case is ( 'gzip', 3)\n",
    "# The compression level ranges from 0 to 9, with 0 being no compression \n",
    "# and 9 being the highest level of compression. \n",
    "# A higher compression level will result in a smaller file size, but will also take longer to compress and decompress."
   ]
  },
  {
   "cell_type": "code",
   "execution_count": 6,
   "id": "d673d0e9",
   "metadata": {},
   "outputs": [
    {
     "data": {
      "text/plain": [
       "70399.67704387437"
      ]
     },
     "execution_count": 6,
     "metadata": {},
     "output_type": "execute_result"
    }
   ],
   "source": [
    "from sklearn.metrics import mean_squared_error\n",
    "from math import sqrt\n",
    "rmse = sqrt(mean_squared_error(y_train,pipeline.predict(train_data)))\n",
    "rmse"
   ]
  },
  {
   "cell_type": "markdown",
   "id": "fadb1c30",
   "metadata": {},
   "source": [
    "## Step 4. Cross validation and push your code\n",
    "\n",
    "Do cross-validation on the train set to test the performance of your model. Push your code to Gitea and send your model to the server."
   ]
  },
  {
   "cell_type": "code",
   "execution_count": 7,
   "id": "ebccb31f",
   "metadata": {},
   "outputs": [],
   "source": [
    "### You can do cross-validation here\n",
    "test_data = pd.read_csv('cook_county_contest_data/cook_county_contest_train.csv').head(20)"
   ]
  },
  {
   "cell_type": "code",
   "execution_count": 8,
   "id": "696fd5a4",
   "metadata": {},
   "outputs": [],
   "source": [
    "m = load(os.path.join(\"../../model/\", 'm2.joblib.gz'))"
   ]
  },
  {
   "cell_type": "code",
   "execution_count": 9,
   "id": "27214a81",
   "metadata": {},
   "outputs": [
    {
     "name": "stdout",
     "output_type": "stream",
     "text": [
      "[-1.43451138e+10 -1.04495130e+10 -1.17023553e+10 -1.88797290e+10\n",
      " -2.86935998e+09]\n"
     ]
    }
   ],
   "source": [
    "from sklearn.model_selection import KFold, cross_val_score\n",
    "kfold = KFold(n_splits=5)\n",
    "scores = cross_val_score(m, Preprocess(test_data), test_data[\"Sale Price\"], cv=5, scoring=\"neg_mean_squared_error\")\n",
    "print(scores)"
   ]
  },
  {
   "cell_type": "code",
   "execution_count": 10,
   "id": "b1664556",
   "metadata": {},
   "outputs": [
    {
     "data": {
      "text/html": [
       "<div>\n",
       "<style scoped>\n",
       "    .dataframe tbody tr th:only-of-type {\n",
       "        vertical-align: middle;\n",
       "    }\n",
       "\n",
       "    .dataframe tbody tr th {\n",
       "        vertical-align: top;\n",
       "    }\n",
       "\n",
       "    .dataframe thead th {\n",
       "        text-align: right;\n",
       "    }\n",
       "</style>\n",
       "<table border=\"1\" class=\"dataframe\">\n",
       "  <thead>\n",
       "    <tr style=\"text-align: right;\">\n",
       "      <th></th>\n",
       "      <th>prediction</th>\n",
       "    </tr>\n",
       "    <tr>\n",
       "      <th>Sale Price</th>\n",
       "      <th></th>\n",
       "    </tr>\n",
       "  </thead>\n",
       "  <tbody>\n",
       "    <tr>\n",
       "      <th>451400</th>\n",
       "      <td>591196.386292</td>\n",
       "    </tr>\n",
       "    <tr>\n",
       "      <th>121000</th>\n",
       "      <td>232239.912120</td>\n",
       "    </tr>\n",
       "    <tr>\n",
       "      <th>65900</th>\n",
       "      <td>164648.391434</td>\n",
       "    </tr>\n",
       "    <tr>\n",
       "      <th>482000</th>\n",
       "      <td>534850.416987</td>\n",
       "    </tr>\n",
       "    <tr>\n",
       "      <th>62500</th>\n",
       "      <td>82208.684817</td>\n",
       "    </tr>\n",
       "    <tr>\n",
       "      <th>80000</th>\n",
       "      <td>158993.420432</td>\n",
       "    </tr>\n",
       "    <tr>\n",
       "      <th>300000</th>\n",
       "      <td>293733.163792</td>\n",
       "    </tr>\n",
       "    <tr>\n",
       "      <th>271250</th>\n",
       "      <td>243005.274800</td>\n",
       "    </tr>\n",
       "    <tr>\n",
       "      <th>410000</th>\n",
       "      <td>274153.054516</td>\n",
       "    </tr>\n",
       "    <tr>\n",
       "      <th>94900</th>\n",
       "      <td>82797.538302</td>\n",
       "    </tr>\n",
       "    <tr>\n",
       "      <th>490000</th>\n",
       "      <td>400417.306300</td>\n",
       "    </tr>\n",
       "    <tr>\n",
       "      <th>133000</th>\n",
       "      <td>127944.229189</td>\n",
       "    </tr>\n",
       "    <tr>\n",
       "      <th>339900</th>\n",
       "      <td>298225.219675</td>\n",
       "    </tr>\n",
       "    <tr>\n",
       "      <th>290000</th>\n",
       "      <td>129574.793698</td>\n",
       "    </tr>\n",
       "    <tr>\n",
       "      <th>187500</th>\n",
       "      <td>183650.606761</td>\n",
       "    </tr>\n",
       "    <tr>\n",
       "      <th>95000</th>\n",
       "      <td>143845.655710</td>\n",
       "    </tr>\n",
       "    <tr>\n",
       "      <th>85000</th>\n",
       "      <td>113334.464293</td>\n",
       "    </tr>\n",
       "    <tr>\n",
       "      <th>51000</th>\n",
       "      <td>98237.205874</td>\n",
       "    </tr>\n",
       "    <tr>\n",
       "      <th>342000</th>\n",
       "      <td>315882.089487</td>\n",
       "    </tr>\n",
       "    <tr>\n",
       "      <th>32500</th>\n",
       "      <td>95553.317309</td>\n",
       "    </tr>\n",
       "  </tbody>\n",
       "</table>\n",
       "</div>"
      ],
      "text/plain": [
       "               prediction\n",
       "Sale Price               \n",
       "451400      591196.386292\n",
       "121000      232239.912120\n",
       "65900       164648.391434\n",
       "482000      534850.416987\n",
       "62500        82208.684817\n",
       "80000       158993.420432\n",
       "300000      293733.163792\n",
       "271250      243005.274800\n",
       "410000      274153.054516\n",
       "94900        82797.538302\n",
       "490000      400417.306300\n",
       "133000      127944.229189\n",
       "339900      298225.219675\n",
       "290000      129574.793698\n",
       "187500      183650.606761\n",
       "95000       143845.655710\n",
       "85000       113334.464293\n",
       "51000        98237.205874\n",
       "342000      315882.089487\n",
       "32500        95553.317309"
      ]
     },
     "execution_count": 10,
     "metadata": {},
     "output_type": "execute_result"
    }
   ],
   "source": [
    "pd.DataFrame({\"prediction\":m.predict(Preprocess(test_data))},test_data[\"Sale Price\"])"
   ]
  },
  {
   "cell_type": "code",
   "execution_count": null,
   "id": "e9c17a4a",
   "metadata": {},
   "outputs": [],
   "source": []
  },
  {
   "cell_type": "code",
   "execution_count": null,
   "id": "256d0579",
   "metadata": {},
   "outputs": [],
   "source": []
  }
 ],
 "metadata": {
  "kernelspec": {
   "display_name": "Python 3 (ipykernel)",
   "language": "python",
   "name": "python3"
  },
  "language_info": {
   "codemirror_mode": {
    "name": "ipython",
    "version": 3
   },
   "file_extension": ".py",
   "mimetype": "text/x-python",
   "name": "python",
   "nbconvert_exporter": "python",
   "pygments_lexer": "ipython3",
   "version": "3.9.16"
  },
  "vscode": {
   "interpreter": {
    "hash": "aee8b7b246df8f9039afb4144a1f6fd8d2ca17a180786b69acc140d282b71a49"
   }
  }
 },
 "nbformat": 4,
 "nbformat_minor": 5
}
