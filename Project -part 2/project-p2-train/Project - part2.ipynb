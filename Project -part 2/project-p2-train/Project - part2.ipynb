{
 "cells": [
  {
   "cell_type": "markdown",
   "id": "c7bf201b",
   "metadata": {},
   "source": [
    "# Project Part II: Predicting Housing Prices - Build Your Own Model (50 pts)\n",
    "\n",
    " "
   ]
  },
  {
   "cell_type": "markdown",
   "id": "e9e950c0",
   "metadata": {},
   "source": [
    "### Grading Scheme\n",
    "\n",
    "Your grade for the project will be based on your training RMSE and test RMSE. The thresholds are as follows:\n",
    "\n",
    "Points | 50 | 40 | 30 | 20\n",
    "--- | --- | --- | --- | ---\n",
    "Test RMSE | Top 20% | (20%, 40%] | (40%, 70%] | Last 30%\n"
   ]
  },
  {
   "cell_type": "code",
   "execution_count": 105,
   "id": "5a0f9898",
   "metadata": {},
   "outputs": [
    {
     "name": "stdout",
     "output_type": "stream",
     "text": [
      "The autoreload extension is already loaded. To reload it, use:\n",
      "  %reload_ext autoreload\n"
     ]
    }
   ],
   "source": [
    "%load_ext autoreload\n",
    "%autoreload 2"
   ]
  },
  {
   "cell_type": "code",
   "execution_count": 151,
   "id": "470dba33",
   "metadata": {},
   "outputs": [],
   "source": [
    "from proj import *\n"
   ]
  },
  {
   "cell_type": "code",
   "execution_count": 152,
   "id": "7887c850",
   "metadata": {},
   "outputs": [],
   "source": [
    "# Some Imports You Might Need\n",
    "import numpy as np\n",
    "import pandas as pd\n",
    "from pandas.api.types import CategoricalDtype\n",
    "\n",
    "%matplotlib inline\n",
    "import matplotlib.pyplot as plt\n",
    "import seaborn as sns\n",
    "from joblib import dump, load\n",
    "\n",
    "import warnings\n",
    "warnings.filterwarnings(\"ignore\")\n",
    "\n",
    "import zipfile\n",
    "import os\n",
    "\n",
    "from sklearn.preprocessing import OneHotEncoder\n",
    "from sklearn import linear_model as lm\n",
    "\n",
    "# Plot settings\n",
    "plt.rcParams['figure.figsize'] = (12, 9)\n",
    "plt.rcParams['font.size'] = 12\n",
    "\n",
    "# Extract Dataset\n",
    "with zipfile.ZipFile('cook_county_contest_data.zip') as item:\n",
    "    item.extractall()\n",
    "    \n",
    "    \n",
    "### Note: we filtered the data in cook_county_contest_data, \n",
    "####so please use this dataset instead of the old one."
   ]
  },
  {
   "cell_type": "markdown",
   "id": "916414d0",
   "metadata": {},
   "source": [
    "### Note\n",
    "\n",
    "This notebook is specifically designed to guide you through the process of exporting your model's predictions on the test dataset for submission so you can see how your model performs.\n",
    "\n",
    "Most of what you have done in project part I should be transferrable here. "
   ]
  },
  {
   "cell_type": "markdown",
   "id": "ef52d919",
   "metadata": {},
   "source": [
    "## Step 1. Set up all the helper functions for your `create_pipeline` function.\n",
    "\n",
    "You can do that in proj.py"
   ]
  },
  {
   "cell_type": "markdown",
   "id": "0749bd6e",
   "metadata": {},
   "source": [
    "## Step 2. Initiate a pipeline\n",
    "\n",
    "Create a pipeline instance:\n",
    "pipeline = create_pipeline()\n"
   ]
  },
  {
   "cell_type": "code",
   "execution_count": 153,
   "id": "ad9f508c",
   "metadata": {},
   "outputs": [],
   "source": [
    "pipeline = create_pipeline()"
   ]
  },
  {
   "cell_type": "markdown",
   "id": "632c3de8",
   "metadata": {},
   "source": [
    "## Step 3. Train your model\n",
    "\n",
    "Run the following cell to import the new set of training data to fit your model on. **You can use any regression model, the following is just an example** \n",
    "\n",
    "**As usual**, your model will predict the log-transformed sale price, and our grading will transform your predictions back to the normal vlaues."
   ]
  },
  {
   "cell_type": "code",
   "execution_count": null,
   "id": "8846885c",
   "metadata": {},
   "outputs": [],
   "source": [
    "train_data = pd.read_csv('cook_county_contest_data/cook_county_contest_train.csv')\n",
    "train_data = remove_outliers(train_data, \"Sale Price\")\n",
    "y_train = np.log(train_data['Sale Price'])\n",
    "train_data = Preprocess(train_data.drop(columns=['Sale Price']))\n",
    "#train_data, y_train = preprocess_train(train_data)\n",
    "\n",
    "###You can use any model in Sklearn\n",
    "pipeline.fit(train_data, y_train);\n",
    "\n",
    "##Export your pipeline\n",
    "\n",
    "dump(pipeline, '../../model/pipeline.joblib.gz', compress=('gzip', 3))\n",
    "\n",
    "#This saves the pipeline to a compressed file\n",
    "#The compress parameter takes a tuple of the compression method and the compression level, which in this case is ( 'gzip', 3)\n",
    "# The compression level ranges from 0 to 9, with 0 being no compression \n",
    "# and 9 being the highest level of compression. \n",
    "# A higher compression level will result in a smaller file size, but will also take longer to compress and decompress."
   ]
  },
  {
   "cell_type": "markdown",
   "id": "fadb1c30",
   "metadata": {},
   "source": [
    "## Step 4. Cross validation and push your code\n",
    "\n",
    "Do cross-validation on the train set to test the performance of your model. Push your code to Gitea and send your model to the server."
   ]
  },
  {
   "cell_type": "code",
   "execution_count": 146,
   "id": "ebccb31f",
   "metadata": {},
   "outputs": [],
   "source": [
    "### You can do cross-validation here\n",
    "test_data = pd.read_csv('cook_county_contest_data/cook_county_contest_train.csv').head(20)"
   ]
  },
  {
   "cell_type": "code",
   "execution_count": 147,
   "id": "f279d510",
   "metadata": {},
   "outputs": [],
   "source": [
    "m = load(os.path.join(\"../../model/\", 'pipeline.joblib.gz'))"
   ]
  },
  {
   "cell_type": "code",
   "execution_count": 148,
   "id": "8d1dc19b",
   "metadata": {},
   "outputs": [
    {
     "name": "stdout",
     "output_type": "stream",
     "text": [
      "    Building Square Feet                                        Description  \\\n",
      "0                 2568.0  This property, sold on 11/08/2018, is a two-st...   \n",
      "1                 1040.0  This property, sold on 12/29/2017, is a one-st...   \n",
      "2                 1188.0  This property, sold on 01/27/2017, is a one-st...   \n",
      "3                 2252.0  This property, sold on 07/03/2018, is a one-st...   \n",
      "4                  787.0  This property, sold on 05/26/2017, is a one-st...   \n",
      "5                 1040.0  This property, sold on 11/05/2013, is a one-st...   \n",
      "6                 1404.0  This property, sold on 02/02/2017, is a one-st...   \n",
      "7                 1450.0  This property, sold on 04/07/2015, is a one-st...   \n",
      "8                  912.0  This property, sold on 06/13/2017, is a one-st...   \n",
      "9                  894.0  This property, sold on 12/30/2014, is a one-st...   \n",
      "10                1879.0  This property, sold on 09/06/2019, is a one-st...   \n",
      "11                1083.0  This property, sold on 11/14/2013, is a one-st...   \n",
      "12                1718.0  This property, sold on 08/02/2019, is a one-st...   \n",
      "13                1966.0  This property, sold on 01/13/2018, is a two-st...   \n",
      "14                 861.0  This property, sold on 08/15/2017, is a one-st...   \n",
      "15                1376.0  This property, sold on 03/17/2017, is a one-st...   \n",
      "16                2211.0  This property, sold on 03/14/2014, is a two-st...   \n",
      "17                1327.0  This property, sold on 11/26/2014, is a one-st...   \n",
      "18                2187.0  This property, sold on 05/08/2017, is a two-st...   \n",
      "19                1253.0  This property, sold on 01/24/2014, is a one-st...   \n",
      "\n",
      "    Neighborhood Code    Roof Material  in_expensive_neighborhood  Bedrooms  \n",
      "0                  72  Shingle/Asphalt                          0         4  \n",
      "1                  60  Shingle/Asphalt                          0         3  \n",
      "2                  80  Shingle/Asphalt                          0         3  \n",
      "3                  71  Shingle/Asphalt                          0         4  \n",
      "4                 181  Shingle/Asphalt                          0         2  \n",
      "5                  22  Shingle/Asphalt                          0         2  \n",
      "6                  31  Shingle/Asphalt                          0         4  \n",
      "7                  51  Shingle/Asphalt                          0         4  \n",
      "8                 410  Shingle/Asphalt                          0         2  \n",
      "9                  80  Shingle/Asphalt                          0         3  \n",
      "10                 80  Shingle/Asphalt                          0         3  \n",
      "11                 70  Shingle/Asphalt                          0         2  \n",
      "12                 71  Shingle/Asphalt                          0         5  \n",
      "13                 31  Shingle/Asphalt                          0         4  \n",
      "14                100  Shingle/Asphalt                          0         3  \n",
      "15                190  Shingle/Asphalt                          0         3  \n",
      "16                 70  Shingle/Asphalt                          0         4  \n",
      "17                 87  Shingle/Asphalt                          0         3  \n",
      "18                 15  Shingle/Asphalt                          0         3  \n",
      "19                120  Shingle/Asphalt                          0         3  \n",
      "[-1.80698013e+10 -5.89938003e+09 -5.54301226e+10 -1.09705008e+10\n",
      " -4.59720688e+10]\n"
     ]
    }
   ],
   "source": [
    "from sklearn.model_selection import KFold, cross_val_score\n",
    "kfold = KFold(n_splits=5)\n",
    "scores = cross_val_score(m, Preprocess(test_data), test_data[\"Sale Price\"], cv=5, scoring=\"neg_mean_squared_error\")\n",
    "print(scores)"
   ]
  },
  {
   "cell_type": "code",
   "execution_count": 150,
   "id": "1ad21ea8",
   "metadata": {},
   "outputs": [
    {
     "name": "stdout",
     "output_type": "stream",
     "text": [
      "    Building Square Feet                                        Description  \\\n",
      "0                 2568.0  This property, sold on 11/08/2018, is a two-st...   \n",
      "1                 1040.0  This property, sold on 12/29/2017, is a one-st...   \n",
      "2                 1188.0  This property, sold on 01/27/2017, is a one-st...   \n",
      "3                 2252.0  This property, sold on 07/03/2018, is a one-st...   \n",
      "4                  787.0  This property, sold on 05/26/2017, is a one-st...   \n",
      "5                 1040.0  This property, sold on 11/05/2013, is a one-st...   \n",
      "6                 1404.0  This property, sold on 02/02/2017, is a one-st...   \n",
      "7                 1450.0  This property, sold on 04/07/2015, is a one-st...   \n",
      "8                  912.0  This property, sold on 06/13/2017, is a one-st...   \n",
      "9                  894.0  This property, sold on 12/30/2014, is a one-st...   \n",
      "10                1879.0  This property, sold on 09/06/2019, is a one-st...   \n",
      "11                1083.0  This property, sold on 11/14/2013, is a one-st...   \n",
      "12                1718.0  This property, sold on 08/02/2019, is a one-st...   \n",
      "13                1966.0  This property, sold on 01/13/2018, is a two-st...   \n",
      "14                 861.0  This property, sold on 08/15/2017, is a one-st...   \n",
      "15                1376.0  This property, sold on 03/17/2017, is a one-st...   \n",
      "16                2211.0  This property, sold on 03/14/2014, is a two-st...   \n",
      "17                1327.0  This property, sold on 11/26/2014, is a one-st...   \n",
      "18                2187.0  This property, sold on 05/08/2017, is a two-st...   \n",
      "19                1253.0  This property, sold on 01/24/2014, is a one-st...   \n",
      "\n",
      "    Neighborhood Code    Roof Material  in_expensive_neighborhood  Bedrooms  \n",
      "0                  72  Shingle/Asphalt                          0         4  \n",
      "1                  60  Shingle/Asphalt                          0         3  \n",
      "2                  80  Shingle/Asphalt                          0         3  \n",
      "3                  71  Shingle/Asphalt                          0         4  \n",
      "4                 181  Shingle/Asphalt                          0         2  \n",
      "5                  22  Shingle/Asphalt                          0         2  \n",
      "6                  31  Shingle/Asphalt                          0         4  \n",
      "7                  51  Shingle/Asphalt                          0         4  \n",
      "8                 410  Shingle/Asphalt                          0         2  \n",
      "9                  80  Shingle/Asphalt                          0         3  \n",
      "10                 80  Shingle/Asphalt                          0         3  \n",
      "11                 70  Shingle/Asphalt                          0         2  \n",
      "12                 71  Shingle/Asphalt                          0         5  \n",
      "13                 31  Shingle/Asphalt                          0         4  \n",
      "14                100  Shingle/Asphalt                          0         3  \n",
      "15                190  Shingle/Asphalt                          0         3  \n",
      "16                 70  Shingle/Asphalt                          0         4  \n",
      "17                 87  Shingle/Asphalt                          0         3  \n",
      "18                 15  Shingle/Asphalt                          0         3  \n",
      "19                120  Shingle/Asphalt                          0         3  \n"
     ]
    },
    {
     "data": {
      "text/plain": [
       "array([12.65649414, 11.94396973, 12.05163574, 12.5501709 , 11.7376709 ,\n",
       "       11.96325684, 12.16760254, 12.19372559, 11.85693359, 11.82141113,\n",
       "       12.42285156, 11.99609375, 12.31164551, 12.44018555, 11.79101562,\n",
       "       12.1706543 , 12.53527832, 12.14123535, 12.54577637, 12.09484863])"
      ]
     },
     "execution_count": 150,
     "metadata": {},
     "output_type": "execute_result"
    }
   ],
   "source": [
    "m.predict(Preprocess(test_data))"
   ]
  },
  {
   "cell_type": "code",
   "execution_count": null,
   "id": "fd2bdb49",
   "metadata": {},
   "outputs": [],
   "source": []
  }
 ],
 "metadata": {
  "kernelspec": {
   "display_name": "Python 3 (ipykernel)",
   "language": "python",
   "name": "python3"
  },
  "language_info": {
   "codemirror_mode": {
    "name": "ipython",
    "version": 3
   },
   "file_extension": ".py",
   "mimetype": "text/x-python",
   "name": "python",
   "nbconvert_exporter": "python",
   "pygments_lexer": "ipython3",
   "version": "3.9.13"
  },
  "vscode": {
   "interpreter": {
    "hash": "aee8b7b246df8f9039afb4144a1f6fd8d2ca17a180786b69acc140d282b71a49"
   }
  }
 },
 "nbformat": 4,
 "nbformat_minor": 5
}
